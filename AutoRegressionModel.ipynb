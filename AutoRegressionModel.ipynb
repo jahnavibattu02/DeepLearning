{
  "nbformat": 4,
  "nbformat_minor": 0,
  "metadata": {
    "colab": {
      "name": "AutoRegressionModel",
      "provenance": []
    },
    "kernelspec": {
      "name": "python3",
      "display_name": "Python 3"
    },
    "language_info": {
      "name": "python"
    }
  },
  "cells": [
    {
      "cell_type": "markdown",
      "metadata": {
        "id": "C1d9r8rNuB4H"
      },
      "source": [
        "### _Import Libraries and Load the data_ "
      ]
    },
    {
      "cell_type": "code",
      "metadata": {
        "id": "_uBp13Yft4tk"
      },
      "source": [
        "import numpy as np\n",
        "import pandas as pd\n",
        "import seaborn as sns\n",
        "import matplotlib.pyplot as plt\n",
        "from matplotlib import pyplot"
      ],
      "execution_count": 1,
      "outputs": []
    },
    {
      "cell_type": "code",
      "metadata": {
        "colab": {
          "resources": {
            "http://localhost:8080/nbextensions/google.colab/files.js": {
              "data": "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",
              "ok": true,
              "headers": [
                [
                  "content-type",
                  "application/javascript"
                ]
              ],
              "status": 200,
              "status_text": ""
            }
          },
          "base_uri": "https://localhost:8080/",
          "height": 73
        },
        "id": "IdNUSuJcuyZB",
        "outputId": "489267e8-a34e-4e81-bb36-ed7e2be71344"
      },
      "source": [
        "from google.colab import files\n",
        "upload = files.upload()"
      ],
      "execution_count": 3,
      "outputs": [
        {
          "output_type": "display_data",
          "data": {
            "text/html": [
              "\n",
              "     <input type=\"file\" id=\"files-d32cf3d5-7e0a-4269-944a-5772d4e4ae06\" name=\"files[]\" multiple disabled\n",
              "        style=\"border:none\" />\n",
              "     <output id=\"result-d32cf3d5-7e0a-4269-944a-5772d4e4ae06\">\n",
              "      Upload widget is only available when the cell has been executed in the\n",
              "      current browser session. Please rerun this cell to enable.\n",
              "      </output>\n",
              "      <script src=\"/nbextensions/google.colab/files.js\"></script> "
            ],
            "text/plain": [
              "<IPython.core.display.HTML object>"
            ]
          },
          "metadata": {}
        },
        {
          "output_type": "stream",
          "name": "stdout",
          "text": [
            "Saving daily-min-temperatures.csv to daily-min-temperatures (3).csv\n"
          ]
        }
      ]
    },
    {
      "cell_type": "code",
      "metadata": {
        "id": "BoGv0HVHuOuN"
      },
      "source": [
        "data = pd.read_csv('daily-min-temperatures.csv', header=0, parse_dates=[0])"
      ],
      "execution_count": 4,
      "outputs": []
    },
    {
      "cell_type": "markdown",
      "metadata": {
        "id": "DkTf9-trGoxU"
      },
      "source": [
        "Note:  \n",
        "\n",
        "_dateparse = lambda x: pd.datetime.strptime(x, '%Y-%m-%d %H:%M:%S')_    \n",
        "_df = pd.read_csv(.........,parse_dates=[0], date_parser=dateparse)_  "
      ]
    },
    {
      "cell_type": "code",
      "metadata": {
        "colab": {
          "base_uri": "https://localhost:8080/",
          "height": 206
        },
        "id": "ClKnWiKNvHVN",
        "outputId": "29a0fc37-afac-4abd-a99b-095ff8ce3cad"
      },
      "source": [
        "data.head() #First Five rows of the data"
      ],
      "execution_count": 5,
      "outputs": [
        {
          "output_type": "execute_result",
          "data": {
            "text/html": [
              "<div>\n",
              "<style scoped>\n",
              "    .dataframe tbody tr th:only-of-type {\n",
              "        vertical-align: middle;\n",
              "    }\n",
              "\n",
              "    .dataframe tbody tr th {\n",
              "        vertical-align: top;\n",
              "    }\n",
              "\n",
              "    .dataframe thead th {\n",
              "        text-align: right;\n",
              "    }\n",
              "</style>\n",
              "<table border=\"1\" class=\"dataframe\">\n",
              "  <thead>\n",
              "    <tr style=\"text-align: right;\">\n",
              "      <th></th>\n",
              "      <th>Date</th>\n",
              "      <th>Temp</th>\n",
              "    </tr>\n",
              "  </thead>\n",
              "  <tbody>\n",
              "    <tr>\n",
              "      <th>0</th>\n",
              "      <td>1981-01-01</td>\n",
              "      <td>20.7</td>\n",
              "    </tr>\n",
              "    <tr>\n",
              "      <th>1</th>\n",
              "      <td>1981-01-02</td>\n",
              "      <td>17.9</td>\n",
              "    </tr>\n",
              "    <tr>\n",
              "      <th>2</th>\n",
              "      <td>1981-01-03</td>\n",
              "      <td>18.8</td>\n",
              "    </tr>\n",
              "    <tr>\n",
              "      <th>3</th>\n",
              "      <td>1981-01-04</td>\n",
              "      <td>14.6</td>\n",
              "    </tr>\n",
              "    <tr>\n",
              "      <th>4</th>\n",
              "      <td>1981-01-05</td>\n",
              "      <td>15.8</td>\n",
              "    </tr>\n",
              "  </tbody>\n",
              "</table>\n",
              "</div>"
            ],
            "text/plain": [
              "        Date  Temp\n",
              "0 1981-01-01  20.7\n",
              "1 1981-01-02  17.9\n",
              "2 1981-01-03  18.8\n",
              "3 1981-01-04  14.6\n",
              "4 1981-01-05  15.8"
            ]
          },
          "metadata": {},
          "execution_count": 5
        }
      ]
    },
    {
      "cell_type": "code",
      "metadata": {
        "id": "q9k3F4xLzmGH"
      },
      "source": [
        "data['t'] = data['Temp'].shift(1)"
      ],
      "execution_count": 6,
      "outputs": []
    },
    {
      "cell_type": "code",
      "metadata": {
        "colab": {
          "base_uri": "https://localhost:8080/",
          "height": 206
        },
        "id": "qNTHdqRVzrZ4",
        "outputId": "030ecc3a-bde4-40c5-95dc-2e0a8e4b91ec"
      },
      "source": [
        "data.head()"
      ],
      "execution_count": 7,
      "outputs": [
        {
          "output_type": "execute_result",
          "data": {
            "text/html": [
              "<div>\n",
              "<style scoped>\n",
              "    .dataframe tbody tr th:only-of-type {\n",
              "        vertical-align: middle;\n",
              "    }\n",
              "\n",
              "    .dataframe tbody tr th {\n",
              "        vertical-align: top;\n",
              "    }\n",
              "\n",
              "    .dataframe thead th {\n",
              "        text-align: right;\n",
              "    }\n",
              "</style>\n",
              "<table border=\"1\" class=\"dataframe\">\n",
              "  <thead>\n",
              "    <tr style=\"text-align: right;\">\n",
              "      <th></th>\n",
              "      <th>Date</th>\n",
              "      <th>Temp</th>\n",
              "      <th>t</th>\n",
              "    </tr>\n",
              "  </thead>\n",
              "  <tbody>\n",
              "    <tr>\n",
              "      <th>0</th>\n",
              "      <td>1981-01-01</td>\n",
              "      <td>20.7</td>\n",
              "      <td>NaN</td>\n",
              "    </tr>\n",
              "    <tr>\n",
              "      <th>1</th>\n",
              "      <td>1981-01-02</td>\n",
              "      <td>17.9</td>\n",
              "      <td>20.7</td>\n",
              "    </tr>\n",
              "    <tr>\n",
              "      <th>2</th>\n",
              "      <td>1981-01-03</td>\n",
              "      <td>18.8</td>\n",
              "      <td>17.9</td>\n",
              "    </tr>\n",
              "    <tr>\n",
              "      <th>3</th>\n",
              "      <td>1981-01-04</td>\n",
              "      <td>14.6</td>\n",
              "      <td>18.8</td>\n",
              "    </tr>\n",
              "    <tr>\n",
              "      <th>4</th>\n",
              "      <td>1981-01-05</td>\n",
              "      <td>15.8</td>\n",
              "      <td>14.6</td>\n",
              "    </tr>\n",
              "  </tbody>\n",
              "</table>\n",
              "</div>"
            ],
            "text/plain": [
              "        Date  Temp     t\n",
              "0 1981-01-01  20.7   NaN\n",
              "1 1981-01-02  17.9  20.7\n",
              "2 1981-01-03  18.8  17.9\n",
              "3 1981-01-04  14.6  18.8\n",
              "4 1981-01-05  15.8  14.6"
            ]
          },
          "metadata": {},
          "execution_count": 7
        }
      ]
    },
    {
      "cell_type": "markdown",
      "metadata": {
        "id": "iWHEG1cavKgC"
      },
      "source": [
        "### _Naive(Persistence) Model_"
      ]
    },
    {
      "cell_type": "markdown",
      "metadata": {
        "id": "xqf1f1YU-iuM"
      },
      "source": [
        "- _The persistence represents the simplest way of producing a forecast._  \n",
        "- _A persistence model assumes that the future value of a time series is calculated under the assumption that nothing changes between the current time and the forecast time._    \n",
        "- _The simplest model that we could use to make predictions would be to persist the last observation._   \n",
        "- _We can call this a persistence model and it provides a baseline of performance for the problem that we can use for comparison with an autoregression model._  \n"
      ]
    },
    {
      "cell_type": "code",
      "metadata": {
        "id": "0JW1QJkavN1I"
      },
      "source": [
        "train, test = data[1:data.shape[0]-7], data[data.shape[0]-7:]"
      ],
      "execution_count": 8,
      "outputs": []
    },
    {
      "cell_type": "markdown",
      "metadata": {
        "id": "7_pOX9ciCyl7"
      },
      "source": [
        "_We can develop a test harness for the problem by splitting the observations into training and test sets, with only the last 7 observations in the dataset assigned to the test set as “unseen” data that we wish to predict._"
      ]
    },
    {
      "cell_type": "code",
      "metadata": {
        "colab": {
          "base_uri": "https://localhost:8080/"
        },
        "id": "bJ9W2p7Ov4-f",
        "outputId": "35e0de98-cd1b-44d7-930a-3d50ba200364"
      },
      "source": [
        "print(train.shape)\n",
        "print(test.shape)"
      ],
      "execution_count": 9,
      "outputs": [
        {
          "output_type": "stream",
          "name": "stdout",
          "text": [
            "(3642, 3)\n",
            "(7, 3)\n"
          ]
        }
      ]
    },
    {
      "cell_type": "code",
      "metadata": {
        "colab": {
          "base_uri": "https://localhost:8080/",
          "height": 206
        },
        "id": "___lFuaAv9EP",
        "outputId": "c90efc91-cbc5-4274-d98e-04f3686f6b16"
      },
      "source": [
        "train.head()"
      ],
      "execution_count": 10,
      "outputs": [
        {
          "output_type": "execute_result",
          "data": {
            "text/html": [
              "<div>\n",
              "<style scoped>\n",
              "    .dataframe tbody tr th:only-of-type {\n",
              "        vertical-align: middle;\n",
              "    }\n",
              "\n",
              "    .dataframe tbody tr th {\n",
              "        vertical-align: top;\n",
              "    }\n",
              "\n",
              "    .dataframe thead th {\n",
              "        text-align: right;\n",
              "    }\n",
              "</style>\n",
              "<table border=\"1\" class=\"dataframe\">\n",
              "  <thead>\n",
              "    <tr style=\"text-align: right;\">\n",
              "      <th></th>\n",
              "      <th>Date</th>\n",
              "      <th>Temp</th>\n",
              "      <th>t</th>\n",
              "    </tr>\n",
              "  </thead>\n",
              "  <tbody>\n",
              "    <tr>\n",
              "      <th>1</th>\n",
              "      <td>1981-01-02</td>\n",
              "      <td>17.9</td>\n",
              "      <td>20.7</td>\n",
              "    </tr>\n",
              "    <tr>\n",
              "      <th>2</th>\n",
              "      <td>1981-01-03</td>\n",
              "      <td>18.8</td>\n",
              "      <td>17.9</td>\n",
              "    </tr>\n",
              "    <tr>\n",
              "      <th>3</th>\n",
              "      <td>1981-01-04</td>\n",
              "      <td>14.6</td>\n",
              "      <td>18.8</td>\n",
              "    </tr>\n",
              "    <tr>\n",
              "      <th>4</th>\n",
              "      <td>1981-01-05</td>\n",
              "      <td>15.8</td>\n",
              "      <td>14.6</td>\n",
              "    </tr>\n",
              "    <tr>\n",
              "      <th>5</th>\n",
              "      <td>1981-01-06</td>\n",
              "      <td>15.8</td>\n",
              "      <td>15.8</td>\n",
              "    </tr>\n",
              "  </tbody>\n",
              "</table>\n",
              "</div>"
            ],
            "text/plain": [
              "        Date  Temp     t\n",
              "1 1981-01-02  17.9  20.7\n",
              "2 1981-01-03  18.8  17.9\n",
              "3 1981-01-04  14.6  18.8\n",
              "4 1981-01-05  15.8  14.6\n",
              "5 1981-01-06  15.8  15.8"
            ]
          },
          "metadata": {},
          "execution_count": 10
        }
      ]
    },
    {
      "cell_type": "code",
      "metadata": {
        "id": "177bqqLQzvTc"
      },
      "source": [
        "train_X, train_y = train['t'], train['Temp']\n",
        "test_X, test_y = test['t'], test['Temp']"
      ],
      "execution_count": 11,
      "outputs": []
    },
    {
      "cell_type": "markdown",
      "metadata": {
        "id": "-g4BydsY1gGM"
      },
      "source": [
        "#### _Walk-Forward Validation_"
      ]
    },
    {
      "cell_type": "markdown",
      "metadata": {
        "id": "n0BT9vIFEs0Y"
      },
      "source": [
        "![](data:image/png;base64,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)"
      ]
    },
    {
      "cell_type": "markdown",
      "metadata": {
        "id": "Me0OUX8XC5Mp"
      },
      "source": [
        "_The predictions are made using a walk-forward validation model so that we can persist the most recent observations for the next day. This means that we are not making a 7-day forecast, but 7 1-day forecasts._"
      ]
    },
    {
      "cell_type": "code",
      "metadata": {
        "id": "bK6WvJ-v1i8U"
      },
      "source": [
        "predictions = test_X.copy()"
      ],
      "execution_count": 12,
      "outputs": []
    },
    {
      "cell_type": "code",
      "metadata": {
        "colab": {
          "base_uri": "https://localhost:8080/"
        },
        "id": "rqQORBYd1nAo",
        "outputId": "1f9f382e-3e6a-4572-938f-7bcfa343a9aa"
      },
      "source": [
        "print(predictions)"
      ],
      "execution_count": 13,
      "outputs": [
        {
          "output_type": "stream",
          "name": "stdout",
          "text": [
            "3643    10.0\n",
            "3644    12.9\n",
            "3645    14.6\n",
            "3646    14.0\n",
            "3647    13.6\n",
            "3648    13.5\n",
            "3649    15.7\n",
            "Name: t, dtype: float64\n"
          ]
        }
      ]
    },
    {
      "cell_type": "code",
      "metadata": {
        "colab": {
          "base_uri": "https://localhost:8080/"
        },
        "id": "7cXsVBIr1qfq",
        "outputId": "fb61123b-7c28-47a1-ffc7-60eb022b97db"
      },
      "source": [
        "print(test_y)"
      ],
      "execution_count": 14,
      "outputs": [
        {
          "output_type": "stream",
          "name": "stdout",
          "text": [
            "3643    12.9\n",
            "3644    14.6\n",
            "3645    14.0\n",
            "3646    13.6\n",
            "3647    13.5\n",
            "3648    15.7\n",
            "3649    13.0\n",
            "Name: Temp, dtype: float64\n"
          ]
        }
      ]
    },
    {
      "cell_type": "code",
      "metadata": {
        "colab": {
          "base_uri": "https://localhost:8080/"
        },
        "id": "UrcEbJ2_1tP5",
        "outputId": "4e8ebf4f-2a49-47d2-c243-112277dc71aa"
      },
      "source": [
        "from sklearn.metrics import mean_squared_error\n",
        "mse = mean_squared_error(test_y, predictions)\n",
        "print(mse)"
      ],
      "execution_count": 15,
      "outputs": [
        {
          "output_type": "stream",
          "name": "stdout",
          "text": [
            "3.4228571428571413\n"
          ]
        }
      ]
    },
    {
      "cell_type": "code",
      "metadata": {
        "colab": {
          "base_uri": "https://localhost:8080/",
          "height": 283
        },
        "id": "uRTVksSs2BpX",
        "outputId": "b1bac67d-7fe5-440e-fb2b-37655fc85946"
      },
      "source": [
        "pyplot.plot(test_y)\n",
        "pyplot.plot(predictions, color='red')"
      ],
      "execution_count": 16,
      "outputs": [
        {
          "output_type": "execute_result",
          "data": {
            "text/plain": [
              "[<matplotlib.lines.Line2D at 0x7f56ea3abb90>]"
            ]
          },
          "metadata": {},
          "execution_count": 16
        },
        {
          "output_type": "display_data",
          "data": {
            "image/png": "[encoded data removed]",
            "text/plain": [
              "<Figure size 432x288 with 1 Axes>"
            ]
          },
          "metadata": {
            "needs_background": "light"
          }
        }
      ]
    },
    {
      "cell_type": "markdown",
      "metadata": {
        "id": "3_lL8YFLC8TM"
      },
      "source": [
        "_The expected values for the next 7 days are plotted (blue) compared to the predictions from the model (red)._"
      ]
    },
    {
      "cell_type": "markdown",
      "metadata": {
        "id": "laTTQqvlwAGw"
      },
      "source": [
        "### _Auto Regression Model_"
      ]
    },
    {
      "cell_type": "markdown",
      "metadata": {
        "id": "jd4Te053_3I-"
      },
      "source": [
        "_AutoRegression is basically a linear regression model. In Linear Regression model, the prediction of output value is based on a linear combination of input values._  \n",
        "\n",
        "_Autoregression is a time series model that uses observations from previous time steps as input to a regression equation to predict the value at the next time step.It is a very simple idea that can result in accurate forecasts on a range of time series problems._\n",
        "\n",
        "___Equation___ : ```yhat = b0+b1*X1```  \n",
        "Where yhat is the prediction, b0 and b1 are coefficients found by optimizing the model on training data, and X is an input value. \n",
        "\n",
        "_This technique can be used on time series where input variables are taken as observations at previous time steps, called \"lag variables\"._\n",
        "\n"
      ]
    },
    {
      "cell_type": "code",
      "metadata": {
        "id": "6-DmjPEv0zyV"
      },
      "source": [
        "train, test = data.Temp[1:data.shape[0]-7], data.Temp[data.shape[0]-7:]"
      ],
      "execution_count": 17,
      "outputs": []
    },
    {
      "cell_type": "markdown",
      "metadata": {
        "id": "gv0DrIViDcFS"
      },
      "source": [
        "_The statsmodels library provides an autoregression model where you must specify an appropriate lag value and trains a linear regression model._"
      ]
    },
    {
      "cell_type": "code",
      "metadata": {
        "colab": {
          "base_uri": "https://localhost:8080/"
        },
        "id": "2-C7S52bwIJP",
        "outputId": "f2ec327a-af6b-42cb-9eea-8d5c89e5fe3e"
      },
      "source": [
        "from statsmodels.tsa.ar_model import AR"
      ],
      "execution_count": 18,
      "outputs": [
        {
          "output_type": "stream",
          "name": "stderr",
          "text": [
            "/usr/local/lib/python3.7/dist-packages/statsmodels/tools/_testing.py:19: FutureWarning: pandas.util.testing is deprecated. Use the functions in the public API at pandas.testing instead.\n",
            "  import pandas.util.testing as tm\n"
          ]
        }
      ]
    },
    {
      "cell_type": "markdown",
      "metadata": {
        "id": "TGFYOwZHDYj5"
      },
      "source": [
        "_We can use this model by first creating the model AR() and then calling fit() to train it on our dataset._"
      ]
    },
    {
      "cell_type": "code",
      "metadata": {
        "id": "4t8VuGtlwe29"
      },
      "source": [
        "model = AR(train)"
      ],
      "execution_count": 19,
      "outputs": []
    },
    {
      "cell_type": "code",
      "metadata": {
        "id": "m9ausYSlwhdi"
      },
      "source": [
        "model_fit = model.fit()"
      ],
      "execution_count": 20,
      "outputs": []
    },
    {
      "cell_type": "code",
      "metadata": {
        "colab": {
          "base_uri": "https://localhost:8080/"
        },
        "id": "rzn0PdOuwm8d",
        "outputId": "b05a6cf9-e8ca-4971-bbc4-527541ef878b"
      },
      "source": [
        "model_fit.k_ar #Returns no.of lag variables"
      ],
      "execution_count": 21,
      "outputs": [
        {
          "output_type": "execute_result",
          "data": {
            "text/plain": [
              "29"
            ]
          },
          "metadata": {},
          "execution_count": 21
        }
      ]
    },
    {
      "cell_type": "code",
      "metadata": {
        "colab": {
          "base_uri": "https://localhost:8080/"
        },
        "id": "gTzCJ_fvwuux",
        "outputId": "ddd7ec40-bb75-4c1e-cc5d-48fb48ea87ef"
      },
      "source": [
        "model_fit.params #Returns coef of lag variables"
      ],
      "execution_count": 22,
      "outputs": [
        {
          "output_type": "execute_result",
          "data": {
            "text/plain": [
              "const       0.557544\n",
              "L1.Temp     0.588595\n",
              "L2.Temp    -0.090826\n",
              "L3.Temp     0.048262\n",
              "L4.Temp     0.040065\n",
              "L5.Temp     0.039302\n",
              "L6.Temp     0.025946\n",
              "L7.Temp     0.044668\n",
              "L8.Temp     0.012768\n",
              "L9.Temp     0.037436\n",
              "L10.Temp   -0.000812\n",
              "L11.Temp    0.004791\n",
              "L12.Temp    0.018473\n",
              "L13.Temp    0.026891\n",
              "L14.Temp    0.000576\n",
              "L15.Temp    0.024810\n",
              "L16.Temp    0.007403\n",
              "L17.Temp    0.009916\n",
              "L18.Temp    0.034160\n",
              "L19.Temp   -0.009120\n",
              "L20.Temp    0.024213\n",
              "L21.Temp    0.018787\n",
              "L22.Temp    0.012184\n",
              "L23.Temp   -0.018553\n",
              "L24.Temp   -0.001772\n",
              "L25.Temp    0.016732\n",
              "L26.Temp    0.019762\n",
              "L27.Temp    0.009832\n",
              "L28.Temp    0.006227\n",
              "L29.Temp   -0.001377\n",
              "dtype: float64"
            ]
          },
          "metadata": {},
          "execution_count": 22
        }
      ]
    },
    {
      "cell_type": "markdown",
      "metadata": {
        "id": "rvXwSzAGxNoT"
      },
      "source": [
        "#### _Making Prediction_ "
      ]
    },
    {
      "cell_type": "markdown",
      "metadata": {
        "id": "nNbgcFnLxUrR"
      },
      "source": [
        "- _If we have values of last 29 timeframes, we can predict the future value using coef and constant term obtained._  \n",
        "- _Other way to predict is using ```.predict``` method._"
      ]
    },
    {
      "cell_type": "markdown",
      "metadata": {
        "id": "8z0kDc8ODpfp"
      },
      "source": [
        "_Once fit, we can use the model to make a prediction by calling the predict() function for a number of observations in the future_"
      ]
    },
    {
      "cell_type": "markdown",
      "metadata": {
        "id": "ZJ6GH0J9yP-p"
      },
      "source": [
        "_here, we have to give the start and the end of the period for which we want the prediction._"
      ]
    },
    {
      "cell_type": "code",
      "metadata": {
        "id": "IDOYFzHSxSo_"
      },
      "source": [
        "predictions = model_fit.predict(start=len(train), end=len(train)+len(test)-1)"
      ],
      "execution_count": 23,
      "outputs": []
    },
    {
      "cell_type": "code",
      "metadata": {
        "colab": {
          "base_uri": "https://localhost:8080/"
        },
        "id": "JKqAOrPhyKqP",
        "outputId": "de5e7035-b83e-4548-85d4-235a242df880"
      },
      "source": [
        "predictions"
      ],
      "execution_count": 24,
      "outputs": [
        {
          "output_type": "execute_result",
          "data": {
            "text/plain": [
              "3643    11.871275\n",
              "3644    13.053794\n",
              "3645    13.532591\n",
              "3646    13.243126\n",
              "3647    13.091438\n",
              "3648    13.146989\n",
              "3649    13.176153\n",
              "dtype: float64"
            ]
          },
          "metadata": {},
          "execution_count": 24
        }
      ]
    },
    {
      "cell_type": "code",
      "metadata": {
        "colab": {
          "base_uri": "https://localhost:8080/"
        },
        "id": "xBbe1sstyZQu",
        "outputId": "53b7a757-6f4f-414c-ab17-703322fe1d22"
      },
      "source": [
        "predictions.iloc[0] #returns the first forecasted value"
      ],
      "execution_count": 25,
      "outputs": [
        {
          "output_type": "execute_result",
          "data": {
            "text/plain": [
              "11.87127484772785"
            ]
          },
          "metadata": {},
          "execution_count": 25
        }
      ]
    },
    {
      "cell_type": "markdown",
      "metadata": {
        "id": "vEEAH6n5y-WL"
      },
      "source": [
        "#### _Evaluation_"
      ]
    },
    {
      "cell_type": "code",
      "metadata": {
        "colab": {
          "base_uri": "https://localhost:8080/"
        },
        "id": "IZ5d4MA1zAfn",
        "outputId": "620f2c3b-cccd-494d-e52f-612a0410c8b7"
      },
      "source": [
        "from sklearn.metrics import mean_squared_error\n",
        "mse = mean_squared_error(test_y, predictions)\n",
        "print(mse)"
      ],
      "execution_count": 26,
      "outputs": [
        {
          "output_type": "stream",
          "name": "stdout",
          "text": [
            "1.50152523100691\n"
          ]
        }
      ]
    },
    {
      "cell_type": "code",
      "metadata": {
        "colab": {
          "base_uri": "https://localhost:8080/",
          "height": 283
        },
        "id": "I9mU62se1COO",
        "outputId": "9b73ff6e-709c-4144-a53e-ce6fe2de0b66"
      },
      "source": [
        "pyplot.plot(test_y)\n",
        "pyplot.plot(predictions, color='red')"
      ],
      "execution_count": 27,
      "outputs": [
        {
          "output_type": "execute_result",
          "data": {
            "text/plain": [
              "[<matplotlib.lines.Line2D at 0x7f56e1a51d90>]"
            ]
          },
          "metadata": {},
          "execution_count": 27
        },
        {
          "output_type": "display_data",
          "data": {
            "image/png": "[encoded data removed]",
            "text/plain": [
              "<Figure size 432x288 with 1 Axes>"
            ]
          },
          "metadata": {
            "needs_background": "light"
          }
        }
      ]
    },
    {
      "cell_type": "markdown",
      "metadata": {
        "id": "MD8ReqMPEBIA"
      },
      "source": [
        "_The expected values for the next 7 days are plotted (blue) compared to the predictions from the model (red)._"
      ]
    },
    {
      "cell_type": "markdown",
      "metadata": {
        "id": "TQdisBlj3T-X"
      },
      "source": [
        "#### _Walk Forward Validation for AR Model_"
      ]
    },
    {
      "cell_type": "code",
      "metadata": {
        "id": "APH9mr813b4l"
      },
      "source": [
        "df = pd.read_csv('daily-min-temperatures.csv', header=0, parse_dates=[0])"
      ],
      "execution_count": 28,
      "outputs": []
    },
    {
      "cell_type": "code",
      "metadata": {
        "id": "h26gGwXC3jP9"
      },
      "source": [
        "train, test = df.Temp[1:df.shape[0]-7], df.Temp[df.shape[0]-7:]"
      ],
      "execution_count": 29,
      "outputs": []
    },
    {
      "cell_type": "code",
      "metadata": {
        "colab": {
          "base_uri": "https://localhost:8080/"
        },
        "id": "AekPVmpZ3poS",
        "outputId": "9e437ce9-3ac2-4214-8ce7-9c40a66b55a4"
      },
      "source": [
        "data = train\n",
        "predict = []\n",
        "for t in test:\n",
        "  model = AR(data)\n",
        "  model_fit = model.fit()\n",
        "  y = model_fit.predict(start=len(data), end=len(train)+len(test)-1)\n",
        "  print(y.values[0])\n",
        "  predict.append(y.values[0])\n",
        "  data = np.append(data, t)\n",
        "  data = pd.Series(data)"
      ],
      "execution_count": 30,
      "outputs": [
        {
          "output_type": "stream",
          "name": "stdout",
          "text": [
            "11.87127484772785\n",
            "13.660699943835207\n",
            "14.353164144090162\n",
            "13.430120791627004\n",
            "13.374756477185125\n",
            "13.479111299420515\n",
            "14.767773018439872\n"
          ]
        }
      ]
    },
    {
      "cell_type": "code",
      "metadata": {
        "colab": {
          "base_uri": "https://localhost:8080/"
        },
        "id": "E8QJRNk-4IL7",
        "outputId": "e5891c5d-8926-4196-827b-2a31dbda8c9e"
      },
      "source": [
        "predict"
      ],
      "execution_count": 31,
      "outputs": [
        {
          "output_type": "execute_result",
          "data": {
            "text/plain": [
              "[11.87127484772785,\n",
              " 13.660699943835207,\n",
              " 14.353164144090162,\n",
              " 13.430120791627004,\n",
              " 13.374756477185125,\n",
              " 13.479111299420515,\n",
              " 14.767773018439872]"
            ]
          },
          "metadata": {},
          "execution_count": 31
        }
      ]
    },
    {
      "cell_type": "code",
      "metadata": {
        "colab": {
          "base_uri": "https://localhost:8080/"
        },
        "id": "XCr3cIeB4ZgA",
        "outputId": "6d1d6b12-9c8b-476e-bdb6-2c0ba4f9867a"
      },
      "source": [
        "mse = mean_squared_error(test.values, predict)\n",
        "mse"
      ],
      "execution_count": 32,
      "outputs": [
        {
          "output_type": "execute_result",
          "data": {
            "text/plain": [
              "1.4524568425185203"
            ]
          },
          "metadata": {},
          "execution_count": 32
        }
      ]
    },
    {
      "cell_type": "code",
      "metadata": {
        "colab": {
          "base_uri": "https://localhost:8080/",
          "height": 283
        },
        "id": "qRZmUhLU4hh3",
        "outputId": "f5b77ce7-1ad0-434a-aedd-125ec853be2f"
      },
      "source": [
        "pyplot.plot(test.values)\n",
        "pyplot.plot(predict, color='red')"
      ],
      "execution_count": 33,
      "outputs": [
        {
          "output_type": "execute_result",
          "data": {
            "text/plain": [
              "[<matplotlib.lines.Line2D at 0x7f56e1a4ac90>]"
            ]
          },
          "metadata": {},
          "execution_count": 33
        },
        {
          "output_type": "display_data",
          "data": {
            "image/png": "[encoded data removed]",
            "text/plain": [
              "<Figure size 432x288 with 1 Axes>"
            ]
          },
          "metadata": {
            "needs_background": "light"
          }
        }
      ]
    }
  ]
}