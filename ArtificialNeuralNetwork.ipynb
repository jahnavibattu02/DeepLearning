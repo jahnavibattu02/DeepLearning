{
  "nbformat": 4,
  "nbformat_minor": 0,
  "metadata": {
    "colab": {
      "name": "ANN.ipynb",
      "provenance": [],
      "collapsed_sections": []
    },
    "kernelspec": {
      "name": "python3",
      "display_name": "Python 3"
    },
    "language_info": {
      "name": "python"
    }
  },
  "cells": [
    {
      "cell_type": "markdown",
      "metadata": {
        "id": "A5rREfle_j4Y"
      },
      "source": [
        "## Artificial Neural Network(ANN)"
      ]
    },
    {
      "cell_type": "markdown",
      "metadata": {
        "id": "DARUuJlRug3m"
      },
      "source": [
        "![](https://external-content.duckduckgo.com/iu/?u=https%3A%2F%2Fsteemitimages.com%2F0x0%2Fhttps%3A%2F%2Fres.cloudinary.com%2Fhpiynhbhq%2Fimage%2Fupload%2Fv1515497643%2Fo1dfpr205jzfn9nc3p6n.png&f=1&nofb=1)"
      ]
    },
    {
      "cell_type": "markdown",
      "metadata": {
        "id": "6X8Vzcks5XNO"
      },
      "source": [
        "#### _If you are a true lover of AI and have dove deep into the topic, you have probably heard of something called Artificial Neural Networks (ANN). Before we look at this in-depth you need to know the use of ANN. It is a deep learning model that is used to replicate the way humans think and learn. This deep learning model roots from the one and only Neuron._\n",
        "\n",
        "#### _The neuron is an essential part of our brain and nervous system. Neurons are the messengers. They detect electrical impulses and chemical signals and use them to transmit information to different parts of the brain._\n",
        "\n",
        "#### _Here is an image of the structure of a neuron_\n",
        "\n",
        "![](https://miro.medium.com/max/504/1*SQnwgT4ccZy5T1gEC5iKcQ.png)\n",
        "\n",
        "#### _Now that you have a basic understanding of Neural Networks, let’s take a look at Artificial Neural Networks. First, we will start with a comparison._\n",
        "\n",
        "![](https://miro.medium.com/max/625/0*Ur77gHTtAahijigw.png)\n",
        "\n",
        "#### _If you look at the image, you can see that the comparisons don’t look similar. However, they both accomplish the same thing. The artificial neuron goes through the same process as the typical neuron. It gets its inputs and releases its outputs._\n",
        "> _The largest and most important difference is the equations used on the ANN. ANN’s have neurons as their units and the “neurons” are put together by synapses. Synapses are weighted values which are also known as synaptic weights. Synaptic weights represent how strong the connection between the neurons are._\n",
        "\n",
        "### How do they work?\n",
        "### Artificial Neural Network Layers\n",
        "#### _Artificial Neural network is typically organized in layers. Layers are being made up of many interconnected ‘nodes’ which contain an ‘activation function’. A neural network may contain the following 3 layers:_\n",
        "\n",
        "*  _a. Input layer\n",
        "The purpose of the input layer is to receive as input the values of the explanatory attributes for each observation. Usually, the number of input nodes in an input layer is equal to the number of explanatory variables. ‘input layer’ presents the patterns to the network, which communicates to one or more ‘hidden layers’_\n",
        "\n",
        "*  _The nodes of the input layer are passive, meaning they do not change the data. They receive a single value on their input and duplicate the value to their many outputs. From the input layer, it duplicates each value and sent to all the hidden nodes._\n",
        "\n",
        "*  _b. Hidden layer\n",
        "The Hidden layers apply given transformations to the input values inside the network. In this, incoming arcs that go from other hidden nodes or from input nodes connected to each node. It connects with outgoing arcs to output nodes or to other hidden nodes. In hidden layer, the actual processing is done via a system of weighted ‘connections’. There may be one or more hidden layers. The values entering a hidden node multiplied by weights, a set of predetermined numbers stored in the program. The weighted inputs are then added to produce a single number._\n",
        "\n",
        "*  _c. Output layer\n",
        "The hidden layers then link to an ‘output layer‘. Output layer receives connections from hidden layers or from input layer. It returns an output value that corresponds to the prediction of the response variable. In classification problems, there is usually only one output node. The active nodes of the output layer combine and change the data to produce the output values._\n",
        "\n",
        "* _The ability of the neural network to provide useful data manipulation lies in the proper selection of the weights. This is different from conventional information processing._\n",
        "\n",
        "\n",
        "#### _Now that we have answered that question, a new question araises. How do the ANN’s know what calculations to perform? The answer to this question is quite simple. One thing you need to know is that AI is nothing without data. Therefore, the first thing we need to do is provide the ANN with data. This means that we provide the ANN with multiple questions and follow them with the answers to those questions. One thing to note is that the more the system receives the better the system will be. There will be more mistakes made due to the increased amount of data, but the model will learn from those mistakes and will ultimately be more accurate._\n",
        "\n",
        "#### _What happens here is that ANN is learning through supervised learning. The main purpose of supervised machine learning is to learn by example. When in the training stage of machine learning, the data will consist of inputs and will be matched with correct outputs. Once the machine has learned this data, one of the inputs that were inputted before would be provided, but this time it won’t be labeled with an output. The machine has already studied this input and will predict correctly. For instance, you can input a couple of pictures that can be labeled with who is in the picture. Then when you input an image, without a label, the machine can try and figure out who is in the picture._\n",
        "\n",
        "#### _Now how is this concept used in ANNs? When you provide the required data into the ANN, the values in the neuron and the synapses adjust to create the optimal artificial neural network. This process is also known as back-propagation._\n",
        "\n",
        "![](https://miro.medium.com/max/625/1*hJO2OhcuuIEnbjkv6OBiJQ.jpeg)\n",
        "\n",
        "#### _Back-propagation is the fine-tuning of the weights, ultimately causing lower error rates and making the model more reliable. It learns through experience. It improves the weights based on the error rate in the previous iteration._\n",
        "\n",
        "#### _ANN has been designed to work very similarly to the human brain. AI objects are being used and are representing a certain part of the brain. To make the first connection, we can use silicon and wires to act as the dendrites and neurons. The role of the dendrites in the brain is to process stimuli from the external environment. Similarly, in ANN the input creates electric impulses that travel through the neural network._\n",
        "\n",
        "#### _ANN consists of multiple nodes, which act like neurons. These nodes are connected by wires so that they are able to communicate with each other. The role of the nodes (neurons) is to take the data that has been inputted, break it down by performing small operations in the data, and then sending the results to other nodes (neurons). Then there is a final output which is called the node value._\n",
        "\n",
        "![](https://miro.medium.com/max/875/1*4PQOnabj78avPB2Mikk5GQ.jpeg)\n",
        "\n",
        "### _Types of ANN_\n",
        "#### _There are also 2 different types of ANNs_\n",
        "*  _Recurrent Neural Network: RNN’s are able to remember important things from the input they receive so that they can be accurate in their predictions of what is coming next. RNN’s are the only type that has an internal memory._\n",
        "*  _Convolution Neural Network: CNN’s are a multilayered neural network with a unique architecture to detect complicated features in data. CNN’s are mostly used to classify images due to their ability to recognize patterns and features._"
      ]
    },
    {
      "cell_type": "markdown",
      "metadata": {
        "id": "3tlmAldrE5yK"
      },
      "source": [
        "## ANN for Regression\n",
        "### _Import Libraries and Load the Data_"
      ]
    },
    {
      "cell_type": "code",
      "metadata": {
        "id": "xZ6prxJsvIGq"
      },
      "source": [
        "import numpy as np\n",
        "import pandas as pd\n",
        "import matplotlib as mpl\n",
        "import matplotlib.pyplot as plt\n",
        "%matplotlib inline"
      ],
      "execution_count": null,
      "outputs": []
    },
    {
      "cell_type": "code",
      "metadata": {
        "id": "TeO_EnsDvV_O"
      },
      "source": [
        "import tensorflow as tf\n",
        "from tensorflow import keras"
      ],
      "execution_count": null,
      "outputs": []
    },
    {
      "cell_type": "code",
      "metadata": {
        "id": "ku5c7v9Vvbid"
      },
      "source": [
        "from sklearn.datasets import fetch_california_housing\n",
        "housing = fetch_california_housing()"
      ],
      "execution_count": null,
      "outputs": []
    },
    {
      "cell_type": "markdown",
      "metadata": {
        "id": "MhtpKp6RvO8O"
      },
      "source": [
        "![](https://external-content.duckduckgo.com/iu/?u=https%3A%2F%2Ftse2.explicit.bing.net%2Fth%3Fid%3DOIP.ixsrgTGzBVp_lv3Oex_j_wHaEd%26pid%3DApi&f=1)"
      ]
    },
    {
      "cell_type": "code",
      "metadata": {
        "colab": {
          "base_uri": "https://localhost:8080/"
        },
        "id": "MfMp1SdRvmn1",
        "outputId": "f3e66580-c759-454f-f0b1-36583cd4e63f"
      },
      "source": [
        "print(housing.feature_names)"
      ],
      "execution_count": null,
      "outputs": [
        {
          "output_type": "stream",
          "name": "stdout",
          "text": [
            "['MedInc', 'HouseAge', 'AveRooms', 'AveBedrms', 'Population', 'AveOccup', 'Latitude', 'Longitude']\n"
          ]
        }
      ]
    },
    {
      "cell_type": "markdown",
      "metadata": {
        "id": "JBjreN0ZE_L5"
      },
      "source": [
        "###Splitting the data"
      ]
    },
    {
      "cell_type": "code",
      "metadata": {
        "id": "ia4yKklCvq03"
      },
      "source": [
        "from sklearn.model_selection import train_test_split\n",
        "X_train_full, X_test, y_train_full, y_test = train_test_split(housing.data, housing.target, random_state=42)\n",
        "X_train, X_valid, y_train, y_valid = train_test_split(X_train_full, y_train_full, random_state=42)"
      ],
      "execution_count": null,
      "outputs": []
    },
    {
      "cell_type": "code",
      "metadata": {
        "id": "b1bt3x5GwJ96"
      },
      "source": [
        "from sklearn.preprocessing import StandardScaler\n",
        "scaler = StandardScaler()\n",
        "X_train = scaler.fit_transform(X_train)\n",
        "X_valid = scaler.transform(X_valid)\n",
        "X_test = scaler.transform(X_test)"
      ],
      "execution_count": null,
      "outputs": []
    },
    {
      "cell_type": "code",
      "metadata": {
        "id": "CuL3iwT9weFU"
      },
      "source": [
        "np.random.seed(42)\n",
        "tf.random.set_seed(42)"
      ],
      "execution_count": null,
      "outputs": []
    },
    {
      "cell_type": "code",
      "metadata": {
        "colab": {
          "base_uri": "https://localhost:8080/"
        },
        "id": "mZf0jY-0wlhh",
        "outputId": "4b01031e-afd8-4af9-d975-79572ee5a9d3"
      },
      "source": [
        "X_train.shape"
      ],
      "execution_count": null,
      "outputs": [
        {
          "output_type": "execute_result",
          "data": {
            "text/plain": [
              "(11610, 8)"
            ]
          },
          "metadata": {},
          "execution_count": 8
        }
      ]
    },
    {
      "cell_type": "markdown",
      "metadata": {
        "id": "1YMbqFpb8_9Y"
      },
      "source": [
        "### Create the model architecture \n",
        "_There are two APIs for defining a model in keras:_\n",
        "1. Sequential API.\n",
        "2. Functional API"
      ]
    },
    {
      "cell_type": "markdown",
      "metadata": {
        "id": "M_7EW9czwpWB"
      },
      "source": [
        "### MODEL-1 : **Sequential API**"
      ]
    },
    {
      "cell_type": "markdown",
      "metadata": {
        "id": "kf9PTQafF20T"
      },
      "source": [
        "- Sequential is a straight forward and simple.\n",
        "- Sequential API is useful to create layer by layer models, where all the outputs of the previous layers are connected as inputs of the next layer and so on.  \n",
        "\n",
        "![](https://external-content.duckduckgo.com/iu/?u=https%3A%2F%2Fmiro.medium.com%2Fmax%2F876%2F1*p598kEC-ASLxXSPDW2PQ8w.png&f=1&nofb=1)"
      ]
    },
    {
      "cell_type": "code",
      "metadata": {
        "id": "aeqqlZL4wnOM"
      },
      "source": [
        "model = keras.models.Sequential([\n",
        "    keras.layers.Dense(30,activation='relu',input_shape=[8]),\n",
        "    keras.layers.Dense(30,activation='relu'),\n",
        "    keras.layers.Dense(1)\n",
        "])"
      ],
      "execution_count": null,
      "outputs": []
    },
    {
      "cell_type": "code",
      "metadata": {
        "colab": {
          "base_uri": "https://localhost:8080/"
        },
        "id": "-OcGs2IrxvCV",
        "outputId": "172cf6d8-c860-49ac-d498-b894b922cb49"
      },
      "source": [
        "model.summary()"
      ],
      "execution_count": null,
      "outputs": [
        {
          "output_type": "stream",
          "name": "stdout",
          "text": [
            "Model: \"sequential\"\n",
            "_________________________________________________________________\n",
            "Layer (type)                 Output Shape              Param #   \n",
            "=================================================================\n",
            "dense (Dense)                (None, 30)                270       \n",
            "_________________________________________________________________\n",
            "dense_1 (Dense)              (None, 30)                930       \n",
            "_________________________________________________________________\n",
            "dense_2 (Dense)              (None, 1)                 31        \n",
            "=================================================================\n",
            "Total params: 1,231\n",
            "Trainable params: 1,231\n",
            "Non-trainable params: 0\n",
            "_________________________________________________________________\n"
          ]
        }
      ]
    },
    {
      "cell_type": "markdown",
      "metadata": {
        "id": "VtKNNWTkGV3I"
      },
      "source": [
        "#### Compiling and Training the neural network"
      ]
    },
    {
      "cell_type": "code",
      "metadata": {
        "colab": {
          "base_uri": "https://localhost:8080/"
        },
        "id": "OJw0PFn6xWUr",
        "outputId": "2d6d65a0-1ebf-48a5-b5af-98f1ca8d3afc"
      },
      "source": [
        "model.compile(loss='mean_squared_error',\n",
        "              optimizer=keras.optimizers.SGD(lr=1e-3),\n",
        "              metrics=['mae'])"
      ],
      "execution_count": null,
      "outputs": [
        {
          "output_type": "stream",
          "name": "stderr",
          "text": [
            "/usr/local/lib/python3.7/dist-packages/keras/optimizer_v2/optimizer_v2.py:356: UserWarning: The `lr` argument is deprecated, use `learning_rate` instead.\n",
            "  \"The `lr` argument is deprecated, use `learning_rate` instead.\")\n"
          ]
        }
      ]
    },
    {
      "cell_type": "code",
      "metadata": {
        "colab": {
          "base_uri": "https://localhost:8080/"
        },
        "id": "YJK7v-wyyEUL",
        "outputId": "457bfd96-9909-40e3-f9b4-2ebbc09a85f3"
      },
      "source": [
        "model_history = model.fit(X_train, y_train, epochs=20, validation_data=(X_valid, y_valid))"
      ],
      "execution_count": null,
      "outputs": [
        {
          "output_type": "stream",
          "name": "stdout",
          "text": [
            "Epoch 1/20\n",
            "363/363 [==============================] - 1s 2ms/step - loss: 1.8866 - mae: 0.9900 - val_loss: 0.7126 - val_mae: 0.6368\n",
            "Epoch 2/20\n",
            "363/363 [==============================] - 1s 2ms/step - loss: 0.6577 - mae: 0.6042 - val_loss: 0.6880 - val_mae: 0.5704\n",
            "Epoch 3/20\n",
            "363/363 [==============================] - 1s 2ms/step - loss: 0.5934 - mae: 0.5618 - val_loss: 0.5803 - val_mae: 0.5352\n",
            "Epoch 4/20\n",
            "363/363 [==============================] - 1s 2ms/step - loss: 0.5557 - mae: 0.5398 - val_loss: 0.5166 - val_mae: 0.5207\n",
            "Epoch 5/20\n",
            "363/363 [==============================] - 1s 2ms/step - loss: 0.5272 - mae: 0.5237 - val_loss: 0.4895 - val_mae: 0.5022\n",
            "Epoch 6/20\n",
            "363/363 [==============================] - 1s 2ms/step - loss: 0.5033 - mae: 0.5113 - val_loss: 0.4951 - val_mae: 0.4934\n",
            "Epoch 7/20\n",
            "363/363 [==============================] - 1s 2ms/step - loss: 0.4854 - mae: 0.5010 - val_loss: 0.4861 - val_mae: 0.4838\n",
            "Epoch 8/20\n",
            "363/363 [==============================] - 1s 1ms/step - loss: 0.4709 - mae: 0.4924 - val_loss: 0.4554 - val_mae: 0.4753\n",
            "Epoch 9/20\n",
            "363/363 [==============================] - 1s 2ms/step - loss: 0.4578 - mae: 0.4857 - val_loss: 0.4413 - val_mae: 0.4671\n",
            "Epoch 10/20\n",
            "363/363 [==============================] - 1s 2ms/step - loss: 0.4474 - mae: 0.4797 - val_loss: 0.4379 - val_mae: 0.4623\n",
            "Epoch 11/20\n",
            "363/363 [==============================] - 1s 2ms/step - loss: 0.4393 - mae: 0.4744 - val_loss: 0.4396 - val_mae: 0.4638\n",
            "Epoch 12/20\n",
            "363/363 [==============================] - 1s 2ms/step - loss: 0.4318 - mae: 0.4703 - val_loss: 0.4507 - val_mae: 0.4573\n",
            "Epoch 13/20\n",
            "363/363 [==============================] - 1s 2ms/step - loss: 0.4261 - mae: 0.4674 - val_loss: 0.3997 - val_mae: 0.4517\n",
            "Epoch 14/20\n",
            "363/363 [==============================] - 1s 2ms/step - loss: 0.4202 - mae: 0.4636 - val_loss: 0.3956 - val_mae: 0.4497\n",
            "Epoch 15/20\n",
            "363/363 [==============================] - 1s 2ms/step - loss: 0.4155 - mae: 0.4613 - val_loss: 0.3916 - val_mae: 0.4464\n",
            "Epoch 16/20\n",
            "363/363 [==============================] - 1s 2ms/step - loss: 0.4112 - mae: 0.4591 - val_loss: 0.3937 - val_mae: 0.4445\n",
            "Epoch 17/20\n",
            "363/363 [==============================] - 1s 1ms/step - loss: 0.4077 - mae: 0.4569 - val_loss: 0.3809 - val_mae: 0.4390\n",
            "Epoch 18/20\n",
            "363/363 [==============================] - 1s 2ms/step - loss: 0.4040 - mae: 0.4545 - val_loss: 0.3793 - val_mae: 0.4368\n",
            "Epoch 19/20\n",
            "363/363 [==============================] - 1s 2ms/step - loss: 0.4004 - mae: 0.4521 - val_loss: 0.3850 - val_mae: 0.4369\n",
            "Epoch 20/20\n",
            "363/363 [==============================] - 1s 2ms/step - loss: 0.3980 - mae: 0.4508 - val_loss: 0.3809 - val_mae: 0.4368\n"
          ]
        }
      ]
    },
    {
      "cell_type": "code",
      "metadata": {
        "colab": {
          "base_uri": "https://localhost:8080/"
        },
        "id": "kCu4CCPIylYa",
        "outputId": "462670fc-173b-4334-b2fd-f9171f8fcfb0"
      },
      "source": [
        "model_history.history"
      ],
      "execution_count": null,
      "outputs": [
        {
          "output_type": "execute_result",
          "data": {
            "text/plain": [
              "{'loss': [1.8866394758224487,\n",
              "  0.6577127575874329,\n",
              "  0.593418538570404,\n",
              "  0.5557191371917725,\n",
              "  0.5271905660629272,\n",
              "  0.5032976269721985,\n",
              "  0.4853556454181671,\n",
              "  0.47091811895370483,\n",
              "  0.45779937505722046,\n",
              "  0.4474469721317291,\n",
              "  0.4393136203289032,\n",
              "  0.43176087737083435,\n",
              "  0.4260515868663788,\n",
              "  0.42017653584480286,\n",
              "  0.41549986600875854,\n",
              "  0.41116511821746826,\n",
              "  0.4077068865299225,\n",
              "  0.4039528965950012,\n",
              "  0.4004494547843933,\n",
              "  0.3979603350162506],\n",
              " 'mae': [0.9900257587432861,\n",
              "  0.6041510105133057,\n",
              "  0.5618006587028503,\n",
              "  0.5398454070091248,\n",
              "  0.5237293839454651,\n",
              "  0.5112562775611877,\n",
              "  0.5010154247283936,\n",
              "  0.492448091506958,\n",
              "  0.4857262372970581,\n",
              "  0.4797375500202179,\n",
              "  0.4744163453578949,\n",
              "  0.4703480303287506,\n",
              "  0.46740883588790894,\n",
              "  0.46360209584236145,\n",
              "  0.4612663984298706,\n",
              "  0.4591343402862549,\n",
              "  0.4568699896335602,\n",
              "  0.45453646779060364,\n",
              "  0.4521065056324005,\n",
              "  0.45083147287368774],\n",
              " 'val_loss': [0.7126054763793945,\n",
              "  0.6880086660385132,\n",
              "  0.5803287029266357,\n",
              "  0.5166085362434387,\n",
              "  0.4895075559616089,\n",
              "  0.49507930874824524,\n",
              "  0.48612532019615173,\n",
              "  0.45538023114204407,\n",
              "  0.44133713841438293,\n",
              "  0.43786385655403137,\n",
              "  0.4396442770957947,\n",
              "  0.4506688714027405,\n",
              "  0.39972350001335144,\n",
              "  0.39558929204940796,\n",
              "  0.3915724754333496,\n",
              "  0.39368298649787903,\n",
              "  0.380948543548584,\n",
              "  0.3793475329875946,\n",
              "  0.3850175142288208,\n",
              "  0.38094663619995117],\n",
              " 'val_mae': [0.6368112564086914,\n",
              "  0.5703656673431396,\n",
              "  0.5351504683494568,\n",
              "  0.5206614136695862,\n",
              "  0.5022227168083191,\n",
              "  0.4933752119541168,\n",
              "  0.48384901881217957,\n",
              "  0.4752774238586426,\n",
              "  0.46705934405326843,\n",
              "  0.46234598755836487,\n",
              "  0.46377918124198914,\n",
              "  0.4572650194168091,\n",
              "  0.45166537165641785,\n",
              "  0.4496610164642334,\n",
              "  0.4463699758052826,\n",
              "  0.4444962441921234,\n",
              "  0.43897414207458496,\n",
              "  0.43681108951568604,\n",
              "  0.4369049370288849,\n",
              "  0.4367615282535553]}"
            ]
          },
          "metadata": {},
          "execution_count": 13
        }
      ]
    },
    {
      "cell_type": "code",
      "metadata": {
        "colab": {
          "base_uri": "https://localhost:8080/",
          "height": 324
        },
        "id": "CyZbSXEJypkV",
        "outputId": "52c6e866-0d4b-41be-8674-adf05f648f48"
      },
      "source": [
        "pd.DataFrame(model_history.history).plot(figsize=(8, 5))\n",
        "plt.grid(True)\n",
        "plt.gca().set_ylim(0, 1)\n",
        "plt.show()"
      ],
      "execution_count": null,
      "outputs": [
        {
          "output_type": "display_data",
          "data": {
            "image/png": "[encoded data removed]",
            "text/plain": [
              "<Figure size 576x360 with 1 Axes>"
            ]
          },
          "metadata": {
            "needs_background": "light"
          }
        }
      ]
    },
    {
      "cell_type": "markdown",
      "metadata": {
        "id": "6ZLLpLJvHSxa"
      },
      "source": [
        "One important thing about keras, it have weights and bias value in the memory. So if u just re-run the whole statement,it will not train the data from the start.it will start training after 20 epochs."
      ]
    },
    {
      "cell_type": "markdown",
      "metadata": {
        "id": "bWB4uon5Gle2"
      },
      "source": [
        "#### Evaluating and predicting"
      ]
    },
    {
      "cell_type": "code",
      "metadata": {
        "colab": {
          "base_uri": "https://localhost:8080/"
        },
        "id": "jN7Ca0-xybTT",
        "outputId": "b8180863-b993-4213-b385-f55fcbaed2ee"
      },
      "source": [
        "model.evaluate(X_test, y_test) #Returns loss and mae"
      ],
      "execution_count": null,
      "outputs": [
        {
          "output_type": "stream",
          "name": "stdout",
          "text": [
            "162/162 [==============================] - 0s 1ms/step - loss: 0.3942 - mae: 0.4502\n"
          ]
        },
        {
          "output_type": "execute_result",
          "data": {
            "text/plain": [
              "[0.3942454159259796, 0.4502214193344116]"
            ]
          },
          "metadata": {},
          "execution_count": 15
        }
      ]
    },
    {
      "cell_type": "code",
      "metadata": {
        "id": "9RN_6D8ky9iB"
      },
      "source": [
        "X_new = X_test[:3]"
      ],
      "execution_count": null,
      "outputs": []
    },
    {
      "cell_type": "code",
      "metadata": {
        "colab": {
          "base_uri": "https://localhost:8080/"
        },
        "id": "MJtBH1SxzBRN",
        "outputId": "8623458c-be46-4746-f015-fe5a3d1deb82"
      },
      "source": [
        "y_pred = model.predict(X_new)\n",
        "print(y_pred)\n",
        "print(y_test[:3])"
      ],
      "execution_count": null,
      "outputs": [
        {
          "output_type": "stream",
          "name": "stdout",
          "text": [
            "[[0.5328768]\n",
            " [1.8915398]\n",
            " [3.404087 ]]\n",
            "[0.477   0.458   5.00001]\n"
          ]
        }
      ]
    },
    {
      "cell_type": "markdown",
      "metadata": {
        "id": "WD4Nr6_-zS88"
      },
      "source": [
        "###MODEL-2: **Functional API**"
      ]
    },
    {
      "cell_type": "markdown",
      "metadata": {
        "id": "vk2rFfQGIBLW"
      },
      "source": [
        "In Functional API's:\n",
        "- we create each of these layers in the form of functions.(or building block of neural network).we can use these functions to create a complex structure by joining them according to your structure need.\n",
        "\n",
        "![](https://external-content.duckduckgo.com/iu/?u=https%3A%2F%2Ftse4.mm.bing.net%2Fth%3Fid%3DOIP.IyByWm9l95kso3cJo0MQuQHaGi%26pid%3DApi&f=1)\n",
        "\n"
      ]
    },
    {
      "cell_type": "code",
      "metadata": {
        "id": "s0JL5bwar2eC"
      },
      "source": [
        "del model #del the model"
      ],
      "execution_count": null,
      "outputs": []
    },
    {
      "cell_type": "code",
      "metadata": {
        "id": "LYrxjFFjsatI"
      },
      "source": [
        "keras.backend.clear_session() #free up the resources for our next model."
      ],
      "execution_count": null,
      "outputs": []
    },
    {
      "cell_type": "markdown",
      "metadata": {
        "id": "abo5PmreIv80"
      },
      "source": [
        "- *Not all neural network models are simply sequential.some may have complex topologies, multiple inputs and multple outputs.*  \n",
        "- *A wide and deep neural network connects all or some parts of the iputs directly to the output layer.*"
      ]
    },
    {
      "cell_type": "code",
      "metadata": {
        "id": "_kAjmLjSsg74"
      },
      "source": [
        "input_ = keras.layers.Input(shape=X_train.shape[1:])\n",
        "hidden1 = keras.layers.Dense(30, activation='relu')(input_)\n",
        "hidden2 = keras.layers.Dense(30, activation='relu')(hidden1)\n",
        "concat = keras.layers.concatenate([input_,hidden2])\n",
        "output = keras.layers.Dense(1)(concat)\n",
        "model = keras.models.Model(inputs=[input_], outputs=[output])"
      ],
      "execution_count": null,
      "outputs": []
    },
    {
      "cell_type": "code",
      "metadata": {
        "colab": {
          "base_uri": "https://localhost:8080/"
        },
        "id": "Yo6sQofdtNi1",
        "outputId": "d6d33b6b-b8cf-4dac-9f74-9478bb076ddb"
      },
      "source": [
        "model.summary()"
      ],
      "execution_count": null,
      "outputs": [
        {
          "output_type": "stream",
          "name": "stdout",
          "text": [
            "Model: \"model\"\n",
            "__________________________________________________________________________________________________\n",
            "Layer (type)                    Output Shape         Param #     Connected to                     \n",
            "==================================================================================================\n",
            "input_1 (InputLayer)            [(None, 8)]          0                                            \n",
            "__________________________________________________________________________________________________\n",
            "dense (Dense)                   (None, 30)           270         input_1[0][0]                    \n",
            "__________________________________________________________________________________________________\n",
            "dense_1 (Dense)                 (None, 30)           930         dense[0][0]                      \n",
            "__________________________________________________________________________________________________\n",
            "concatenate (Concatenate)       (None, 38)           0           input_1[0][0]                    \n",
            "                                                                 dense_1[0][0]                    \n",
            "__________________________________________________________________________________________________\n",
            "dense_2 (Dense)                 (None, 1)            39          concatenate[0][0]                \n",
            "==================================================================================================\n",
            "Total params: 1,239\n",
            "Trainable params: 1,239\n",
            "Non-trainable params: 0\n",
            "__________________________________________________________________________________________________\n"
          ]
        }
      ]
    },
    {
      "cell_type": "markdown",
      "metadata": {
        "id": "GeQimBVrtXZ3"
      },
      "source": [
        "#### Compiling and Training the Network"
      ]
    },
    {
      "cell_type": "code",
      "metadata": {
        "id": "5wR46H-Vtb8M",
        "colab": {
          "base_uri": "https://localhost:8080/"
        },
        "outputId": "bf794ce5-856a-4de7-922d-0fdc3f8c0845"
      },
      "source": [
        "model.compile(loss='mean_squared_error',\n",
        "              optimizer=keras.optimizers.SGD(lr=1e-3),\n",
        "              metrics=['mae'])"
      ],
      "execution_count": null,
      "outputs": [
        {
          "output_type": "stream",
          "name": "stderr",
          "text": [
            "/usr/local/lib/python3.7/dist-packages/keras/optimizer_v2/optimizer_v2.py:356: UserWarning: The `lr` argument is deprecated, use `learning_rate` instead.\n",
            "  \"The `lr` argument is deprecated, use `learning_rate` instead.\")\n"
          ]
        }
      ]
    },
    {
      "cell_type": "code",
      "metadata": {
        "colab": {
          "base_uri": "https://localhost:8080/"
        },
        "id": "z5ccnPOOtrpj",
        "outputId": "250a6dcf-b089-4585-97e3-a6d3720ff6ae"
      },
      "source": [
        "model_history = model.fit(X_train, y_train, epochs=20,\n",
        "                          validation_data=(X_valid,y_valid))"
      ],
      "execution_count": null,
      "outputs": [
        {
          "output_type": "stream",
          "name": "stdout",
          "text": [
            "Epoch 1/20\n",
            "363/363 [==============================] - 1s 2ms/step - loss: 1.6920 - mae: 0.8893 - val_loss: 0.8798 - val_mae: 0.6026\n",
            "Epoch 2/20\n",
            "363/363 [==============================] - 1s 2ms/step - loss: 0.6836 - mae: 0.5994 - val_loss: 0.6420 - val_mae: 0.5764\n",
            "Epoch 3/20\n",
            "363/363 [==============================] - 1s 2ms/step - loss: 0.6265 - mae: 0.5775 - val_loss: 0.5891 - val_mae: 0.5503\n",
            "Epoch 4/20\n",
            "363/363 [==============================] - 1s 2ms/step - loss: 0.5877 - mae: 0.5581 - val_loss: 0.5455 - val_mae: 0.5343\n",
            "Epoch 5/20\n",
            "363/363 [==============================] - 1s 2ms/step - loss: 0.5566 - mae: 0.5421 - val_loss: 0.5409 - val_mae: 0.5202\n",
            "Epoch 6/20\n",
            "363/363 [==============================] - 1s 2ms/step - loss: 0.5312 - mae: 0.5298 - val_loss: 0.4903 - val_mae: 0.5046\n",
            "Epoch 7/20\n",
            "363/363 [==============================] - 1s 1ms/step - loss: 0.5108 - mae: 0.5186 - val_loss: 0.4728 - val_mae: 0.4962\n",
            "Epoch 8/20\n",
            "363/363 [==============================] - 1s 1ms/step - loss: 0.4952 - mae: 0.5096 - val_loss: 0.5017 - val_mae: 0.4921\n",
            "Epoch 9/20\n",
            "363/363 [==============================] - 1s 2ms/step - loss: 0.4802 - mae: 0.5025 - val_loss: 0.4511 - val_mae: 0.4811\n",
            "Epoch 10/20\n",
            "363/363 [==============================] - 1s 2ms/step - loss: 0.4685 - mae: 0.4959 - val_loss: 0.4330 - val_mae: 0.4735\n",
            "Epoch 11/20\n",
            "363/363 [==============================] - 1s 2ms/step - loss: 0.4590 - mae: 0.4897 - val_loss: 0.4991 - val_mae: 0.4778\n",
            "Epoch 12/20\n",
            "363/363 [==============================] - 1s 1ms/step - loss: 0.4502 - mae: 0.4851 - val_loss: 0.4179 - val_mae: 0.4658\n",
            "Epoch 13/20\n",
            "363/363 [==============================] - 1s 2ms/step - loss: 0.4433 - mae: 0.4811 - val_loss: 0.4409 - val_mae: 0.4658\n",
            "Epoch 14/20\n",
            "363/363 [==============================] - 1s 2ms/step - loss: 0.4363 - mae: 0.4766 - val_loss: 0.4239 - val_mae: 0.4621\n",
            "Epoch 15/20\n",
            "363/363 [==============================] - 1s 2ms/step - loss: 0.4306 - mae: 0.4736 - val_loss: 0.4480 - val_mae: 0.4601\n",
            "Epoch 16/20\n",
            "363/363 [==============================] - 1s 2ms/step - loss: 0.4253 - mae: 0.4703 - val_loss: 0.4113 - val_mae: 0.4550\n",
            "Epoch 17/20\n",
            "363/363 [==============================] - 1s 2ms/step - loss: 0.4213 - mae: 0.4676 - val_loss: 0.4454 - val_mae: 0.4538\n",
            "Epoch 18/20\n",
            "363/363 [==============================] - 1s 2ms/step - loss: 0.4168 - mae: 0.4650 - val_loss: 0.4538 - val_mae: 0.4518\n",
            "Epoch 19/20\n",
            "363/363 [==============================] - 1s 1ms/step - loss: 0.4126 - mae: 0.4616 - val_loss: 0.4084 - val_mae: 0.4477\n",
            "Epoch 20/20\n",
            "363/363 [==============================] - 1s 1ms/step - loss: 0.4096 - mae: 0.4600 - val_loss: 0.4581 - val_mae: 0.4505\n"
          ]
        }
      ]
    },
    {
      "cell_type": "code",
      "metadata": {
        "colab": {
          "base_uri": "https://localhost:8080/"
        },
        "id": "bcYv0BOAt3TZ",
        "outputId": "772fe8e9-e584-4119-c6d8-a4e73cfb138d"
      },
      "source": [
        "model_history.params"
      ],
      "execution_count": null,
      "outputs": [
        {
          "output_type": "execute_result",
          "data": {
            "text/plain": [
              "{'epochs': 20, 'steps': 363, 'verbose': 1}"
            ]
          },
          "metadata": {},
          "execution_count": 24
        }
      ]
    },
    {
      "cell_type": "code",
      "metadata": {
        "colab": {
          "base_uri": "https://localhost:8080/"
        },
        "id": "ze4MX-J8t3Tc",
        "outputId": "e230dfd8-f924-4f4f-a464-597ad551b222"
      },
      "source": [
        "model_history.history"
      ],
      "execution_count": null,
      "outputs": [
        {
          "output_type": "execute_result",
          "data": {
            "text/plain": [
              "{'loss': [1.6920058727264404,\n",
              "  0.6836402416229248,\n",
              "  0.626488208770752,\n",
              "  0.5877465605735779,\n",
              "  0.5565561056137085,\n",
              "  0.5311980843544006,\n",
              "  0.5107864141464233,\n",
              "  0.4951668083667755,\n",
              "  0.48022276163101196,\n",
              "  0.4684668779373169,\n",
              "  0.4589638411998749,\n",
              "  0.45022058486938477,\n",
              "  0.4432658851146698,\n",
              "  0.4363255202770233,\n",
              "  0.4306245744228363,\n",
              "  0.4253448247909546,\n",
              "  0.42129331827163696,\n",
              "  0.4168177843093872,\n",
              "  0.4126453101634979,\n",
              "  0.4095856547355652],\n",
              " 'mae': [0.8892966508865356,\n",
              "  0.5993583798408508,\n",
              "  0.577479362487793,\n",
              "  0.5581423044204712,\n",
              "  0.542133629322052,\n",
              "  0.5297517776489258,\n",
              "  0.518592119216919,\n",
              "  0.5096290111541748,\n",
              "  0.5025359392166138,\n",
              "  0.49592795968055725,\n",
              "  0.4896959960460663,\n",
              "  0.4850703179836273,\n",
              "  0.48114871978759766,\n",
              "  0.47657036781311035,\n",
              "  0.47358450293540955,\n",
              "  0.4702606499195099,\n",
              "  0.4675999879837036,\n",
              "  0.4649639427661896,\n",
              "  0.46159058809280396,\n",
              "  0.46004417538642883],\n",
              " 'val_loss': [0.879798412322998,\n",
              "  0.6420255303382874,\n",
              "  0.5890798568725586,\n",
              "  0.5454671382904053,\n",
              "  0.5408936142921448,\n",
              "  0.4903125464916229,\n",
              "  0.4728315770626068,\n",
              "  0.501725971698761,\n",
              "  0.4510645270347595,\n",
              "  0.4330178499221802,\n",
              "  0.4991109371185303,\n",
              "  0.4179283082485199,\n",
              "  0.4408894181251526,\n",
              "  0.423883855342865,\n",
              "  0.44802555441856384,\n",
              "  0.4113348126411438,\n",
              "  0.4454157054424286,\n",
              "  0.4537522494792938,\n",
              "  0.408429890871048,\n",
              "  0.4580708146095276],\n",
              " 'val_mae': [0.6026318669319153,\n",
              "  0.5763723850250244,\n",
              "  0.5502772331237793,\n",
              "  0.534281313419342,\n",
              "  0.5201656818389893,\n",
              "  0.5045695900917053,\n",
              "  0.49619969725608826,\n",
              "  0.4920657277107239,\n",
              "  0.4810589849948883,\n",
              "  0.47347649931907654,\n",
              "  0.477807879447937,\n",
              "  0.4658489525318146,\n",
              "  0.4657770097255707,\n",
              "  0.4620634913444519,\n",
              "  0.4600690007209778,\n",
              "  0.4549534320831299,\n",
              "  0.453832745552063,\n",
              "  0.4518481492996216,\n",
              "  0.447709858417511,\n",
              "  0.45054301619529724]}"
            ]
          },
          "metadata": {},
          "execution_count": 25
        }
      ]
    },
    {
      "cell_type": "code",
      "metadata": {
        "colab": {
          "base_uri": "https://localhost:8080/",
          "height": 324
        },
        "id": "qutcNWgHt9SN",
        "outputId": "c8beb85a-bcab-493f-894a-b724210c1a52"
      },
      "source": [
        "#Plotting the Loss\n",
        "import pandas as pd\n",
        "pd.DataFrame(model_history.history).plot(figsize=(8,5))\n",
        "plt.grid(True)\n",
        "plt.gca().set_ylim(0,1)\n",
        "plt.show()"
      ],
      "execution_count": null,
      "outputs": [
        {
          "output_type": "display_data",
          "data": {
            "image/png": "[encoded data removed]",
            "text/plain": [
              "<Figure size 576x360 with 1 Axes>"
            ]
          },
          "metadata": {
            "needs_background": "light"
          }
        }
      ]
    },
    {
      "cell_type": "markdown",
      "metadata": {
        "id": "x571qg2quoub"
      },
      "source": [
        "#### Evaluating and Predicting"
      ]
    },
    {
      "cell_type": "code",
      "metadata": {
        "colab": {
          "base_uri": "https://localhost:8080/"
        },
        "id": "BKr83K8Xu1Dy",
        "outputId": "10d2bf44-655c-4fba-9622-12706ad46bfd"
      },
      "source": [
        "model.evaluate(X_test, y_test) #returns loss and mae"
      ],
      "execution_count": null,
      "outputs": [
        {
          "output_type": "stream",
          "name": "stdout",
          "text": [
            "162/162 [==============================] - 0s 1ms/step - loss: 0.4007 - mae: 0.4556\n"
          ]
        },
        {
          "output_type": "execute_result",
          "data": {
            "text/plain": [
              "[0.40072616934776306, 0.45561060309410095]"
            ]
          },
          "metadata": {},
          "execution_count": 27
        }
      ]
    },
    {
      "cell_type": "code",
      "metadata": {
        "id": "Jc2J4nzX0s-G"
      },
      "source": [
        "X_new = X_test[:3]"
      ],
      "execution_count": null,
      "outputs": []
    },
    {
      "cell_type": "code",
      "metadata": {
        "colab": {
          "base_uri": "https://localhost:8080/"
        },
        "id": "MNASVaEb0s-H",
        "outputId": "fe87072b-8e72-4c45-a777-7a42e21c40ea"
      },
      "source": [
        "y_pred = model.predict(X_new)\n",
        "print(y_pred)\n",
        "print(y_test[:3])"
      ],
      "execution_count": null,
      "outputs": [
        {
          "output_type": "stream",
          "name": "stdout",
          "text": [
            "[[0.69968665]\n",
            " [1.6621763 ]\n",
            " [3.4106686 ]]\n",
            "[0.477   0.458   5.00001]\n"
          ]
        }
      ]
    },
    {
      "cell_type": "markdown",
      "metadata": {
        "id": "tRYQHRlM9F1u"
      },
      "source": [
        "## _ANN for Classification_\n",
        "### _Import Required Libraries_"
      ]
    },
    {
      "cell_type": "code",
      "metadata": {
        "id": "1oVEjk1P9WaS"
      },
      "source": [
        "import numpy as np\n",
        "import pandas as pd\n",
        "import matplotlib as mpl\n",
        "import matplotlib.pyplot as plt"
      ],
      "execution_count": null,
      "outputs": []
    },
    {
      "cell_type": "code",
      "metadata": {
        "id": "wAxZA51O9Y6U"
      },
      "source": [
        "import tensorflow as tf\n",
        "from tensorflow import keras"
      ],
      "execution_count": null,
      "outputs": []
    },
    {
      "cell_type": "code",
      "metadata": {
        "id": "EUqBukLi9bDT"
      },
      "source": [
        "fashion_mnist = keras.datasets.fashion_mnist\n",
        "(X_train,y_train),(X_test, y_test) = fashion_mnist.load_data()"
      ],
      "execution_count": null,
      "outputs": []
    },
    {
      "cell_type": "markdown",
      "metadata": {
        "id": "ZlgTCTBT9coi"
      },
      "source": [
        "Dataset of 60,000, 28X28 grayscale images of 10 fashion categories along with a test set of 10,000 images.  \n",
        "_The Class Labels are:_\n",
        " ![](https://external-content.duckduckgo.com/iu/?u=https%3A%2F%2Fwww.researchgate.net%2Fprofile%2FSaeed_reza_Kheradpisheh%2Fpublication%2F342801790%2Ffigure%2Ffig2%2FAS%3A911232181735425%401594266090934%2FSample-images-from-Fashion-MNIST-dataset.png&f=1&nofb=1)\n",
        "```\n",
        "Labels          Description\n",
        "  0              T-shirt/top\n",
        "  1              Trouser\n",
        "  2              Pullover\n",
        "  3              Dress\n",
        "  4              Coat\n",
        "  5              Sandal\n",
        "  6              Shirt\n",
        "  7              Sneaker\n",
        "  8              Bag\n",
        "  9              Ankle boot\n",
        "\n",
        "```\n",
        "\n"
      ]
    },
    {
      "cell_type": "code",
      "metadata": {
        "id": "bnqKbwVV9fnr"
      },
      "source": [
        "plt.imshow(X_train[1]) #accesing second image in the data"
      ],
      "execution_count": null,
      "outputs": []
    },
    {
      "cell_type": "code",
      "metadata": {
        "id": "jFWGwUiY9jzg"
      },
      "source": [
        "y_train[1]"
      ],
      "execution_count": null,
      "outputs": []
    },
    {
      "cell_type": "code",
      "metadata": {
        "id": "cDrmZa_89lhn"
      },
      "source": [
        "class_names = ['T-shirt/top','Trouser','Pullover','Dress','Coat',\n",
        "               'Sandal','Shirt','Sneaker','Bag','Ankle boot']"
      ],
      "execution_count": null,
      "outputs": []
    },
    {
      "cell_type": "code",
      "metadata": {
        "id": "2zxrjBWn9n3A"
      },
      "source": [
        "class_names[y_train[1]]"
      ],
      "execution_count": null,
      "outputs": []
    },
    {
      "cell_type": "code",
      "metadata": {
        "id": "VV6Dju659qNG"
      },
      "source": [
        "X_train[1] #return 28X28 pixels values of second image in X_train other than showing image ...this will show us the pixel matrix"
      ],
      "execution_count": null,
      "outputs": []
    },
    {
      "cell_type": "markdown",
      "metadata": {
        "id": "u8nIk1lD93uy"
      },
      "source": [
        "#### _Data Normalization_"
      ]
    },
    {
      "cell_type": "code",
      "metadata": {
        "id": "KGJK7lLD98B2"
      },
      "source": [
        "# We normalize the data dimensions so that they are of approximately the same scale.\n",
        "X_train_n = X_train / 255.\n",
        "X_test_n = X_test / 255.\n",
        "# we are writing **255.0** becuase we wnat the final output in form of floating numbers between 0 and 1."
      ],
      "execution_count": null,
      "outputs": []
    },
    {
      "cell_type": "markdown",
      "metadata": {
        "id": "tJcCJ8_r-Ld2"
      },
      "source": [
        "#### _Splitting the data into train/validation/test datasets_\n",
        "- Training data - used for training the model.\n",
        "- Validation data - used for tuning the hyperparameters and evaluate the models.\n",
        "- Test data - used to test the model after the model has gone through initial vetting by the validation set"
      ]
    },
    {
      "cell_type": "code",
      "metadata": {
        "id": "fEDpbqqW-QG4"
      },
      "source": [
        "X_valid, X_train = X_train_n[:5000], X_train_n[5000:]\n",
        "y_valid, y_train = y_train[:5000], y_train[5000:]\n",
        "X_test = X_test_n"
      ],
      "execution_count": null,
      "outputs": []
    },
    {
      "cell_type": "code",
      "metadata": {
        "id": "tKK4FZhU-UzT"
      },
      "source": [
        "X_valid[0]"
      ],
      "execution_count": null,
      "outputs": []
    },
    {
      "cell_type": "markdown",
      "metadata": {
        "id": "casqF1x8-ZAI"
      },
      "source": [
        "#### _Create the model architecture_\n",
        "#### MODEL-1: **Sequntial API**"
      ]
    },
    {
      "cell_type": "markdown",
      "metadata": {
        "id": "E7fcksrU-jeG"
      },
      "source": [
        "- Sequential is a straight forward and simple.\n",
        "- Sequential API is useful to create layer by layer models, where all the outputs of the previous layers are connected as inputs of the next layer and so on.  \n"
      ]
    },
    {
      "cell_type": "markdown",
      "metadata": {
        "id": "5qTGzWsE-m5v"
      },
      "source": [
        "![](https://external-content.duckduckgo.com/iu/?u=https%3A%2F%2Fmiro.medium.com%2Fmax%2F9004%2F1*WzwKtnA0LEhiCGdWTTpLaA.png&f=1&nofb=1)"
      ]
    },
    {
      "cell_type": "code",
      "metadata": {
        "id": "A8vgiqpu-fYS"
      },
      "source": [
        "np.random.seed(42)\n",
        "tf.random.set_seed(42) #Random seed is used to replicate the same result everytime."
      ],
      "execution_count": null,
      "outputs": []
    },
    {
      "cell_type": "code",
      "metadata": {
        "id": "EWc4KQ8p-r1m"
      },
      "source": [
        "model = keras.models.Sequential()\n",
        "model.add(keras.layers.Flatten(input_shape=[28,28]))\n",
        "model.add(keras.layers.Dense(300, activation = 'relu'))\n",
        "model.add(keras.layers.Dense(100, activation = 'relu'))\n",
        "model.add(keras.layers.Dense(10, activation = 'softmax'))\n",
        "#Since these 10 categories are exclusive and this is a classification model we use \"softmax\"."
      ],
      "execution_count": null,
      "outputs": []
    },
    {
      "cell_type": "code",
      "metadata": {
        "id": "vtrV8Q7r-uUn"
      },
      "source": [
        "model.summary()"
      ],
      "execution_count": null,
      "outputs": []
    },
    {
      "cell_type": "code",
      "metadata": {
        "id": "_JXT3ta1-wLV"
      },
      "source": [
        "import pydot\n",
        "keras.utils.plot_model(model) #Returns the structure of Neural network."
      ],
      "execution_count": null,
      "outputs": []
    },
    {
      "cell_type": "markdown",
      "metadata": {
        "id": "qJYa2VDO-yR9"
      },
      "source": [
        "![](data:image/png;base64,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)"
      ]
    },
    {
      "cell_type": "code",
      "metadata": {
        "id": "7QLRYGcU-0e2"
      },
      "source": [
        "weights, biases = model.layers[1].get_weights()"
      ],
      "execution_count": null,
      "outputs": []
    },
    {
      "cell_type": "code",
      "metadata": {
        "id": "GxTn4mbX-2QH"
      },
      "source": [
        "print(weights)\n",
        "print(weights.shape)"
      ],
      "execution_count": null,
      "outputs": []
    },
    {
      "cell_type": "code",
      "metadata": {
        "id": "dXkDr19Z-32L"
      },
      "source": [
        "print(biases)\n",
        "print(biases.shape)"
      ],
      "execution_count": null,
      "outputs": []
    },
    {
      "cell_type": "markdown",
      "metadata": {
        "id": "9AHjnj2u--Oe"
      },
      "source": [
        "#### _Compiling and Training the Neural Network_"
      ]
    },
    {
      "cell_type": "code",
      "metadata": {
        "id": "alqpJK4B-6VB"
      },
      "source": [
        "model.compile(loss='sparse_categorical_crossentropy',#Since we have labels.\n",
        "              optimizer='sgd',metrics=['accuracy'])"
      ],
      "execution_count": null,
      "outputs": []
    },
    {
      "cell_type": "code",
      "metadata": {
        "id": "e1b1IOSC_C4V"
      },
      "source": [
        "model_history = model.fit(X_train, y_train, epochs=30,\n",
        "                          validation_data=(X_valid,y_valid))"
      ],
      "execution_count": null,
      "outputs": []
    },
    {
      "cell_type": "code",
      "metadata": {
        "id": "1-zzZu5x_JWG"
      },
      "source": [
        "model_history.params"
      ],
      "execution_count": null,
      "outputs": []
    },
    {
      "cell_type": "code",
      "metadata": {
        "id": "EqbWF9i1_LCq"
      },
      "source": [
        "model_history.history #return loss value,validation loss, validation accuracy, accuracy"
      ],
      "execution_count": null,
      "outputs": []
    },
    {
      "cell_type": "code",
      "metadata": {
        "id": "JQ7r8_dV_N4O"
      },
      "source": [
        "#Plotting the Loss,acuracy, val loss, val accuracy for each epoch.\n",
        "import pandas as pd\n",
        "pd.DataFrame(model_history.history).plot(figsize=(8,5))\n",
        "plt.grid(True)\n",
        "plt.gca().set_ylim(0,1)\n",
        "plt.show()"
      ],
      "execution_count": null,
      "outputs": []
    },
    {
      "cell_type": "markdown",
      "metadata": {
        "id": "_BGnhIL5_SYi"
      },
      "source": [
        "#### _Evaluating and Predictions_"
      ]
    },
    {
      "cell_type": "code",
      "metadata": {
        "id": "03pC2Kk1_QHV"
      },
      "source": [
        "model.evaluate(X_test, y_test) #return loss, accuracy."
      ],
      "execution_count": null,
      "outputs": []
    },
    {
      "cell_type": "code",
      "metadata": {
        "id": "ZFbVa2LH_UlT"
      },
      "source": [
        "X_new = X_test[:3]"
      ],
      "execution_count": null,
      "outputs": []
    },
    {
      "cell_type": "code",
      "metadata": {
        "id": "LZAHbaoF_WtK"
      },
      "source": [
        "y_proba = model.predict(X_new)\n",
        "y_proba.round(2)"
      ],
      "execution_count": null,
      "outputs": []
    },
    {
      "cell_type": "code",
      "metadata": {
        "id": "eweMMTfO_YQd"
      },
      "source": [
        "print(plt.imshow(X_test[0]))"
      ],
      "execution_count": null,
      "outputs": []
    },
    {
      "cell_type": "code",
      "metadata": {
        "id": "P8RusOpL_bSr"
      },
      "source": [
        "print(plt.imshow(X_test[1]))"
      ],
      "execution_count": null,
      "outputs": []
    },
    {
      "cell_type": "code",
      "metadata": {
        "id": "liXzIJOB_dEZ"
      },
      "source": [
        "print(plt.imshow(X_test[2]))"
      ],
      "execution_count": null,
      "outputs": []
    },
    {
      "cell_type": "markdown",
      "metadata": {
        "id": "LnN7oiEL_1Zp"
      },
      "source": [
        "#### _Just try to implement Functional API for classification_\n",
        "\n",
        "#### _It's The End_"
      ]
    }
  ]
}